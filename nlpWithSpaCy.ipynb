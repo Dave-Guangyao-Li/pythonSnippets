{
 "cells": [
  {
   "attachments": {},
   "cell_type": "markdown",
   "metadata": {},
   "source": [
    "* The default model for the English language is designated as en_core_web_sm. "
   ]
  },
  {
   "cell_type": "code",
   "execution_count": 2,
   "metadata": {},
   "outputs": [
    {
     "data": {
      "text/plain": [
       "<spacy.lang.en.English at 0x11f73ab90>"
      ]
     },
     "execution_count": 2,
     "metadata": {},
     "output_type": "execute_result"
    }
   ],
   "source": [
    "# import sys\n",
    "import spacy\n",
    "# print(sys.executable)\n",
    "nlp = spacy.load(\"en_core_web_sm\") # load() function returns a Language callable object, which is commonly assigned to a variable called nlp.\n",
    "nlp"
   ]
  },
  {
   "cell_type": "code",
   "execution_count": 3,
   "metadata": {},
   "outputs": [
    {
     "data": {
      "text/plain": [
       "['This',\n",
       " 'tutorial',\n",
       " 'is',\n",
       " 'about',\n",
       " 'Natural',\n",
       " 'Language',\n",
       " 'Processing',\n",
       " 'in',\n",
       " 'spaCy',\n",
       " '.']"
      ]
     },
     "execution_count": 3,
     "metadata": {},
     "output_type": "execute_result"
    }
   ],
   "source": [
    "# A Doc object is a sequence of Token objects representing a lexical token. Each Token object has information about a particular piece—typically one word—of text. You can instantiate a Doc object by calling the Language object with the input string as an argument:\n",
    "\n",
    "introduction_doc = nlp(\"This tutorial is about Natural Language Processing in spaCy.\" )\n",
    "type(introduction_doc)\n",
    "[token.text for token in introduction_doc] # On each Token object, you called the .text attribute to get the text contained within that token. "
   ]
  },
  {
   "cell_type": "code",
   "execution_count": 4,
   "metadata": {},
   "outputs": [
    {
     "name": "stdout",
     "output_type": "stream",
     "text": [
      "['This', 'tutorial', 'is', 'about', 'Natural', 'Language', 'Processing', 'in', 'spaCy', '.']\n"
     ]
    }
   ],
   "source": [
    "# You won’t typically be copying and pasting text directly into the constructor, though. Instead, you’ll likely be reading it from a file:\n",
    "\n",
    "#  read the contents of the introduction.txt file with the .read_text() method of the pathlib.Path object. \n",
    "import pathlib\n",
    "file_name = \"introduction.txt\"\n",
    "introduction_doc = nlp(pathlib.Path(file_name).read_text(encoding=\"utf-8\"))\n",
    "print ([token.text for token in introduction_doc])"
   ]
  },
  {
   "attachments": {},
   "cell_type": "markdown",
   "metadata": {},
   "source": [
    "# Sentence Detection\n",
    "* Sentence detection is the process of locating where sentences start and end in a given text. \n",
    "* This allows you to you divide a text into linguistically meaningful units."
   ]
  },
  {
   "cell_type": "code",
   "execution_count": null,
   "metadata": {},
   "outputs": [],
   "source": [
    "# In spaCy, the .sents property is used to extract sentences from the Doc object. \n"
   ]
  }
 ],
 "metadata": {
  "kernelspec": {
   "display_name": "Venv",
   "language": "python",
   "name": "python3"
  },
  "language_info": {
   "codemirror_mode": {
    "name": "ipython",
    "version": 3
   },
   "file_extension": ".py",
   "mimetype": "text/x-python",
   "name": "python",
   "nbconvert_exporter": "python",
   "pygments_lexer": "ipython3",
   "version": "3.10.8"
  },
  "orig_nbformat": 4,
  "vscode": {
   "interpreter": {
    "hash": "0a9975e830c99131645c35fe29f83a2c29fa72bf11ee34df8f29c86616b1ff9a"
   }
  }
 },
 "nbformat": 4,
 "nbformat_minor": 2
}
